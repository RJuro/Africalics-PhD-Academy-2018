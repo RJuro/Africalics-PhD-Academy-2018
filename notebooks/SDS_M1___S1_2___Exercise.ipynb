{
  "nbformat": 4,
  "nbformat_minor": 0,
  "metadata": {
    "colab": {
      "name": "SDS M1 _ S1/2 _ Exercise.ipynb",
      "version": "0.3.2",
      "provenance": [],
      "collapsed_sections": [],
      "include_colab_link": true
    },
    "kernelspec": {
      "name": "python3",
      "display_name": "Python 3"
    }
  },
  "cells": [
    {
      "cell_type": "markdown",
      "metadata": {
        "id": "view-in-github",
        "colab_type": "text"
      },
      "source": [
        "<a href=\"https://colab.research.google.com/github/RJuro/Africalics-PhD-Academy-2018/blob/master/notebooks/SDS_M1___S1_2___Exercise.ipynb\" target=\"_parent\"><img src=\"https://colab.research.google.com/assets/colab-badge.svg\" alt=\"Open In Colab\"/></a>"
      ]
    },
    {
      "cell_type": "code",
      "metadata": {
        "id": "DRK9M2HpT8nu",
        "colab_type": "code",
        "colab": {
          "base_uri": "https://localhost:8080/",
          "height": 122
        },
        "outputId": "040aa1ff-c1e4-4f07-cf82-05be9b5fcc90"
      },
      "source": [
        "# Installing pyreadr to be able to work with R-data formats\n",
        "!pip install pyreadr"
      ],
      "execution_count": 1,
      "outputs": [
        {
          "output_type": "stream",
          "text": [
            "Collecting pyreadr\n",
            "\u001b[?25l  Downloading https://files.pythonhosted.org/packages/cc/a8/69cdfb59bcafc88d574865d520c61429b9ae80d447b3f2d659fef0be4afc/pyreadr-0.2.1-cp36-cp36m-manylinux1_x86_64.whl (219kB)\n",
            "\u001b[K     |████████████████████████████████| 225kB 2.7MB/s \n",
            "\u001b[?25hInstalling collected packages: pyreadr\n",
            "Successfully installed pyreadr-0.2.1\n"
          ],
          "name": "stdout"
        }
      ]
    },
    {
      "cell_type": "markdown",
      "metadata": {
        "id": "U3lPLUIqWSZN",
        "colab_type": "text"
      },
      "source": [
        "## Stuff to do\n",
        "\n",
        "- Remove missing data (where that is needed/useful) - Columns/Rows\n",
        "- Recode variable types (objects to boolian and other where Pandas did not detect automatically )\n",
        "- Create Date-Time index\n",
        "- Think about some interesting things to explore!"
      ]
    },
    {
      "cell_type": "code",
      "metadata": {
        "id": "8JL1Lj_LUPJf",
        "colab_type": "code",
        "colab": {
          "base_uri": "https://localhost:8080/",
          "height": 204
        },
        "outputId": "c18c32ba-8d8d-48cf-eb18-9558c4f32d57"
      },
      "source": [
        "# Download the data\n",
        "!wget http://sds-datacrunch.aau.dk/public/SDS2019/new_orleans_2019.rds"
      ],
      "execution_count": 2,
      "outputs": [
        {
          "output_type": "stream",
          "text": [
            "--2019-09-05 07:37:08--  http://sds-datacrunch.aau.dk/public/SDS2019/new_orleans_2019.rds\n",
            "Resolving sds-datacrunch.aau.dk (sds-datacrunch.aau.dk)... 192.38.56.127\n",
            "Connecting to sds-datacrunch.aau.dk (sds-datacrunch.aau.dk)|192.38.56.127|:80... connected.\n",
            "HTTP request sent, awaiting response... 200 OK\n",
            "Length: 12197131 (12M) [application/octet-stream]\n",
            "Saving to: ‘new_orleans_2019.rds’\n",
            "\n",
            "new_orleans_2019.rd 100%[===================>]  11.63M  7.73MB/s    in 1.5s    \n",
            "\n",
            "2019-09-05 07:37:09 (7.73 MB/s) - ‘new_orleans_2019.rds’ saved [12197131/12197131]\n",
            "\n"
          ],
          "name": "stdout"
        }
      ]
    },
    {
      "cell_type": "code",
      "metadata": {
        "id": "I_GFUDF_Uh-R",
        "colab_type": "code",
        "colab": {}
      },
      "source": [
        "# Import pandas and pyreadr\n",
        "import pyreadr\n",
        "import pandas as pd"
      ],
      "execution_count": 0,
      "outputs": []
    },
    {
      "cell_type": "code",
      "metadata": {
        "id": "cogdybp7alE5",
        "colab_type": "code",
        "colab": {}
      },
      "source": [
        "# Read in the downloaded file as described in pyreadr-documentation https://github.com/ofajardo/pyreadr\n",
        "result = pyreadr.read_r('new_orleans_2019.rds')\n",
        "data = result[None]"
      ],
      "execution_count": 0,
      "outputs": []
    },
    {
      "cell_type": "code",
      "metadata": {
        "id": "YagHBdCWbB4a",
        "colab_type": "code",
        "colab": {
          "base_uri": "https://localhost:8080/",
          "height": 612
        },
        "outputId": "1f223288-86d9-4116-bdc9-3ac39f6a462e"
      },
      "source": [
        "#quick check of the data\n",
        "data.info()"
      ],
      "execution_count": 14,
      "outputs": [
        {
          "output_type": "stream",
          "text": [
            "<class 'pandas.core.frame.DataFrame'>\n",
            "RangeIndex: 513065 entries, 0 to 513064\n",
            "Data columns (total 30 columns):\n",
            "raw_row_number        513065 non-null object\n",
            "date                  513055 non-null object\n",
            "time                  513065 non-null float64\n",
            "location              416421 non-null object\n",
            "lat                   260624 non-null float64\n",
            "lng                   260624 non-null float64\n",
            "district              513065 non-null object\n",
            "zone                  513065 non-null object\n",
            "subject_age           499880 non-null float64\n",
            "subject_race          500938 non-null category\n",
            "subject_sex           500938 non-null category\n",
            "officer_assignment    512941 non-null object\n",
            "type                  362916 non-null category\n",
            "arrest_made           389716 non-null object\n",
            "citation_issued       389716 non-null object\n",
            "warning_issued        389716 non-null object\n",
            "outcome               335680 non-null category\n",
            "contraband_found      75802 non-null object\n",
            "contraband_drugs      75802 non-null object\n",
            "contraband_weapons    75802 non-null object\n",
            "frisk_performed       389716 non-null object\n",
            "search_conducted      389716 non-null object\n",
            "search_person         389716 non-null object\n",
            "search_vehicle        389716 non-null object\n",
            "search_basis          75802 non-null category\n",
            "reason_for_stop       513065 non-null object\n",
            "vehicle_color         273567 non-null object\n",
            "vehicle_make          276954 non-null object\n",
            "vehicle_model         259686 non-null object\n",
            "vehicle_year          272368 non-null object\n",
            "dtypes: category(5), float64(4), object(21)\n",
            "memory usage: 100.3+ MB\n"
          ],
          "name": "stdout"
        }
      ]
    },
    {
      "cell_type": "code",
      "metadata": {
        "id": "gajAA7TdXh5B",
        "colab_type": "code",
        "colab": {
          "base_uri": "https://localhost:8080/",
          "height": 544
        },
        "outputId": "5ec537ee-a100-4f13-ce18-c086a75d147b"
      },
      "source": [
        "# Check for missing data - especially date and time\n",
        "data.isnull().sum()"
      ],
      "execution_count": 6,
      "outputs": [
        {
          "output_type": "execute_result",
          "data": {
            "text/plain": [
              "raw_row_number             0\n",
              "date                      10\n",
              "time                       0\n",
              "location               96644\n",
              "lat                   252441\n",
              "lng                   252441\n",
              "district                   0\n",
              "zone                       0\n",
              "subject_age            13185\n",
              "subject_race           12127\n",
              "subject_sex            12127\n",
              "officer_assignment       124\n",
              "type                  150149\n",
              "arrest_made           123349\n",
              "citation_issued       123349\n",
              "warning_issued        123349\n",
              "outcome               177385\n",
              "contraband_found      437263\n",
              "contraband_drugs      437263\n",
              "contraband_weapons    437263\n",
              "frisk_performed       123349\n",
              "search_conducted      123349\n",
              "search_person         123349\n",
              "search_vehicle        123349\n",
              "search_basis          437263\n",
              "reason_for_stop            0\n",
              "vehicle_color         239498\n",
              "vehicle_make          236111\n",
              "vehicle_model         253379\n",
              "vehicle_year          240697\n",
              "dtype: int64"
            ]
          },
          "metadata": {
            "tags": []
          },
          "execution_count": 6
        }
      ]
    },
    {
      "cell_type": "code",
      "metadata": {
        "id": "5TiAQQADXli5",
        "colab_type": "code",
        "colab": {}
      },
      "source": [
        "# Drop rows with no date to avoid problems when we try to transform to timestamps\n",
        "data.dropna(subset=['date'], inplace=True)"
      ],
      "execution_count": 0,
      "outputs": []
    },
    {
      "cell_type": "markdown",
      "metadata": {
        "id": "2jPo9P62bAV0",
        "colab_type": "text"
      },
      "source": [
        "As you could see, the time-column is read in as a float (floating point real value − that represents a real numbers and is written with a decimal point) of the number of seconds in the point of time of the day (thanks Claus and Frederick for solving that)\n",
        "\n",
        "To transform that into a timestamp we will need the pandas' timedelta feature - since the seconds represent a timespan, that should work"
      ]
    },
    {
      "cell_type": "code",
      "metadata": {
        "id": "FdAq3kt-cpdD",
        "colab_type": "code",
        "colab": {}
      },
      "source": [
        "# apply timedelta\n",
        "data['time'] = pd.to_timedelta(data['time'], unit='seconds')"
      ],
      "execution_count": 0,
      "outputs": []
    },
    {
      "cell_type": "code",
      "metadata": {
        "id": "rt3yG_k_eN5q",
        "colab_type": "code",
        "colab": {
          "base_uri": "https://localhost:8080/",
          "height": 34
        },
        "outputId": "de96aa45-1a51-4152-8f69-600048b738b6"
      },
      "source": [
        "data['time'][0]"
      ],
      "execution_count": 29,
      "outputs": [
        {
          "output_type": "execute_result",
          "data": {
            "text/plain": [
              "Timedelta('0 days 01:11:00')"
            ]
          },
          "metadata": {
            "tags": []
          },
          "execution_count": 29
        }
      ]
    },
    {
      "cell_type": "code",
      "metadata": {
        "id": "BMQ3aJp0c8JZ",
        "colab_type": "code",
        "colab": {}
      },
      "source": [
        "# transform dates to date-timestamps\n",
        "data['date'] = pd.to_datetime(data['date'])"
      ],
      "execution_count": 0,
      "outputs": []
    },
    {
      "cell_type": "code",
      "metadata": {
        "id": "JUb23DsGdGcg",
        "colab_type": "code",
        "colab": {}
      },
      "source": [
        "# now we can construct our timestamps by simply adding the timedeltas (0 days and some time) to our timestamps from dates\n",
        "data['timestamp'] = data['time'] + data['date']"
      ],
      "execution_count": 0,
      "outputs": []
    },
    {
      "cell_type": "code",
      "metadata": {
        "id": "-wna5xYSU56_",
        "colab_type": "code",
        "colab": {}
      },
      "source": [
        "# set index as our timestamp\n",
        "data.set_index('timestamp', inplace=True)"
      ],
      "execution_count": 0,
      "outputs": []
    },
    {
      "cell_type": "code",
      "metadata": {
        "id": "XJZDdtNzevAT",
        "colab_type": "code",
        "colab": {
          "base_uri": "https://localhost:8080/",
          "height": 612
        },
        "outputId": "67d561ae-8149-4fe3-a834-2972109a3911"
      },
      "source": [
        "data.info()"
      ],
      "execution_count": 39,
      "outputs": [
        {
          "output_type": "stream",
          "text": [
            "<class 'pandas.core.frame.DataFrame'>\n",
            "DatetimeIndex: 513065 entries, 2010-01-01 01:11:00 to 2018-07-18 00:34:00\n",
            "Data columns (total 30 columns):\n",
            "raw_row_number        513065 non-null object\n",
            "date                  513055 non-null datetime64[ns]\n",
            "time                  513065 non-null timedelta64[ns]\n",
            "location              416421 non-null object\n",
            "lat                   260624 non-null float64\n",
            "lng                   260624 non-null float64\n",
            "district              513065 non-null object\n",
            "zone                  513065 non-null object\n",
            "subject_age           499880 non-null float64\n",
            "subject_race          500938 non-null category\n",
            "subject_sex           500938 non-null category\n",
            "officer_assignment    512941 non-null object\n",
            "type                  362916 non-null category\n",
            "arrest_made           389716 non-null object\n",
            "citation_issued       389716 non-null object\n",
            "warning_issued        389716 non-null object\n",
            "outcome               335680 non-null category\n",
            "contraband_found      75802 non-null object\n",
            "contraband_drugs      75802 non-null object\n",
            "contraband_weapons    75802 non-null object\n",
            "frisk_performed       389716 non-null object\n",
            "search_conducted      389716 non-null object\n",
            "search_person         389716 non-null object\n",
            "search_vehicle        389716 non-null object\n",
            "search_basis          75802 non-null category\n",
            "reason_for_stop       513065 non-null object\n",
            "vehicle_color         273567 non-null object\n",
            "vehicle_make          276954 non-null object\n",
            "vehicle_model         259686 non-null object\n",
            "vehicle_year          272368 non-null object\n",
            "dtypes: category(5), datetime64[ns](1), float64(3), object(20), timedelta64[ns](1)\n",
            "memory usage: 104.2+ MB\n"
          ],
          "name": "stdout"
        }
      ]
    },
    {
      "cell_type": "markdown",
      "metadata": {
        "id": "UOwnU9ZIg8DZ",
        "colab_type": "text"
      },
      "source": [
        "Many of the columns that have a True/False format have many missing values. If the value is missing, it is reasonable to asusme that it is False. \n",
        "e.g. if no arrest has been recorded then probably no arrest happened.\n",
        "Therefore we can fill the missing data with the value False\n",
        "Also we transform the to boolian datatype"
      ]
    },
    {
      "cell_type": "code",
      "metadata": {
        "id": "nqpwpS6ef5Qa",
        "colab_type": "code",
        "colab": {}
      },
      "source": [
        "data.frisk_performed = data.frisk_performed.fillna(False)\n",
        "data.arrest_made = data.arrest_made.fillna(False)"
      ],
      "execution_count": 0,
      "outputs": []
    },
    {
      "cell_type": "code",
      "metadata": {
        "id": "1F3lVYmEfXp2",
        "colab_type": "code",
        "colab": {}
      },
      "source": [
        "data['frisk_performed'] = data['frisk_performed'].astype(bool)\n",
        "data['arrest_made'] = data['arrest_made'].astype(bool)"
      ],
      "execution_count": 0,
      "outputs": []
    },
    {
      "cell_type": "code",
      "metadata": {
        "id": "YNHiLmsDfHsq",
        "colab_type": "code",
        "colab": {
          "base_uri": "https://localhost:8080/",
          "height": 357
        },
        "outputId": "18cc2c6c-b8c7-4122-b537-50e86cadbb41"
      },
      "source": [
        "# Now we can resample by time\n",
        "data.resample('Y')['frisk_performed'].mean()\n",
        "\n",
        "# you can see that up to ~2010 this variable is likely not properly recorded during police stops in this area."
      ],
      "execution_count": 65,
      "outputs": [
        {
          "output_type": "execute_result",
          "data": {
            "text/plain": [
              "timestamp\n",
              "2001-12-31    0.000000\n",
              "2002-12-31    0.000000\n",
              "2003-12-31    0.000000\n",
              "2004-12-31    0.000000\n",
              "2005-12-31         NaN\n",
              "2006-12-31         NaN\n",
              "2007-12-31    0.000000\n",
              "2008-12-31    0.003968\n",
              "2009-12-31    0.000000\n",
              "2010-12-31    0.000048\n",
              "2011-12-31    0.063446\n",
              "2012-12-31    0.121595\n",
              "2013-12-31    0.154668\n",
              "2014-12-31    0.140057\n",
              "2015-12-31    0.144756\n",
              "2016-12-31    0.194375\n",
              "2017-12-31    0.216618\n",
              "2018-12-31    0.152336\n",
              "Name: frisk_performed, dtype: float64"
            ]
          },
          "metadata": {
            "tags": []
          },
          "execution_count": 65
        }
      ]
    },
    {
      "cell_type": "markdown",
      "metadata": {
        "id": "tW6I12AnelUP",
        "colab_type": "text"
      },
      "source": [
        "Do men and women have different vehicles colors?"
      ]
    },
    {
      "cell_type": "code",
      "metadata": {
        "id": "-rqiiy0IcNIH",
        "colab_type": "code",
        "colab": {}
      },
      "source": [
        "pd.crosstab(data.vehicle_color,data.subject_sex, normalize='index')"
      ],
      "execution_count": 0,
      "outputs": []
    },
    {
      "cell_type": "code",
      "metadata": {
        "id": "ObSS--oQe-Tv",
        "colab_type": "code",
        "colab": {}
      },
      "source": [
        "pd.crosstab(data.vehicle_make,data.search_vehicle, normalize='index')"
      ],
      "execution_count": 0,
      "outputs": []
    },
    {
      "cell_type": "code",
      "metadata": {
        "id": "PhiKmobmfbAG",
        "colab_type": "code",
        "colab": {}
      },
      "source": [
        ""
      ],
      "execution_count": 0,
      "outputs": []
    }
  ]
}